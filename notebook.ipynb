{
  "cells": [
    {
      "cell_type": "markdown",
      "metadata": {
        "id": "H9wADwK78DCz"
      },
      "source": [
        "# Proyek Analisis Data: Bike Sharing Dataset\n",
        "- **Nama:** Zefanya Danovanta Tarigan\n",
        "- **Email:** @zefanyadanovantaa@gmail.com\n",
        "- **ID Dicoding:** B244003E"
      ]
    },
    {
      "cell_type": "markdown",
      "metadata": {
        "id": "eE0raob58DC0"
      },
      "source": [
        "## Menentukan Pertanyaan Bisnis"
      ]
    },
    {
      "cell_type": "markdown",
      "metadata": {
        "id": "GmQeQ5YF8DC0"
      },
      "source": [
        "- Bagaimana penyewaan sepeda pada hari libur dan hari kerja di tiap tahunnya?\n",
        "- Pada jam berapa rata rata penyewaan sepeda paling tinggi ?\n",
        "- Bagaimaa pesebaran penyewaan pada tiap musimnya ?"
      ]
    },
    {
      "cell_type": "markdown",
      "metadata": {
        "id": "H-z4QGlO8DC1"
      },
      "source": [
        "## Import Semua Packages/Library yang Digunakan"
      ]
    },
    {
      "cell_type": "code",
      "execution_count": 223,
      "metadata": {
        "id": "FVYwaObI8DC1"
      },
      "outputs": [],
      "source": [
        "import pandas as pd\n",
        "import numpy as np\n",
        "import matplotlib.pyplot as plt\n",
        "import seaborn as sns\n",
        "from scipy.cluster.hierarchy import dendrogram, linkage\n"
      ]
    },
    {
      "cell_type": "markdown",
      "metadata": {
        "id": "h_Sh51Xy8DC1"
      },
      "source": [
        "## Data Wrangling"
      ]
    },
    {
      "cell_type": "markdown",
      "metadata": {
        "id": "sXU2GBYu8DC1"
      },
      "source": [
        "### Gathering Data"
      ]
    },
    {
      "cell_type": "code",
      "execution_count": null,
      "metadata": {
        "colab": {
          "base_uri": "https://localhost:8080/",
          "height": 313
        },
        "id": "zjCBk1BI8DC1",
        "outputId": "2ff62ecd-19a4-4da2-a462-31785270c08e"
      },
      "outputs": [],
      "source": [
        "day_df = pd.read_csv(\"dashboard/data/day.csv\")\n",
        "day_df.head()"
      ]
    },
    {
      "cell_type": "code",
      "execution_count": null,
      "metadata": {
        "colab": {
          "base_uri": "https://localhost:8080/",
          "height": 313
        },
        "id": "dihtAfr7IPWp",
        "outputId": "b21e5741-5963-4cc7-a124-d2c0cd7786a9"
      },
      "outputs": [],
      "source": [
        "hour_df = pd.read_csv(\"dashboard/data/hour.csv\")\n",
        "hour_df.head()"
      ]
    },
    {
      "cell_type": "markdown",
      "metadata": {
        "id": "MMi6xGaDkbCi"
      },
      "source": [
        "**Insight:**\n",
        "- Mengambil data day.csv ke variabel \"day_df\"\n",
        "- Mengambil data hour.csv ke variabel \"hour_df\""
      ]
    },
    {
      "cell_type": "markdown",
      "metadata": {
        "id": "FHSiqaZp8DC1"
      },
      "source": [
        "### Assessing Data"
      ]
    },
    {
      "cell_type": "markdown",
      "metadata": {
        "id": "l5otafGFIPWq"
      },
      "source": [
        "#### Menilai tabel `day_df`"
      ]
    },
    {
      "cell_type": "code",
      "execution_count": null,
      "metadata": {
        "id": "ax-3tEjc9Cj1"
      },
      "outputs": [],
      "source": [
        "day_df.info()\n",
        "day_df.isna().sum()\n",
        "day_df.duplicated().sum()\n",
        "print(\"Jumlah duplikasi: \", day_df.duplicated().sum())\n",
        "day_df.describe()"
      ]
    },
    {
      "cell_type": "markdown",
      "metadata": {
        "id": "oUkcpcshIPWq"
      },
      "source": [
        "#### Menilai tabel `hour_df`"
      ]
    },
    {
      "cell_type": "code",
      "execution_count": null,
      "metadata": {
        "id": "cNMTSYGTIPWq"
      },
      "outputs": [],
      "source": [
        "hour_df.info()\n",
        "hour_df.isna().sum()\n",
        "print(\"Jumlah duplikasi: \", hour_df.duplicated().sum())\n",
        "hour_df.describe()"
      ]
    },
    {
      "cell_type": "markdown",
      "metadata": {
        "id": "7dtxhAPrkhPL"
      },
      "source": [
        "**Insight:**\n",
        "- Mengidentifikasi kesalahan data pada tabel hour_df\n",
        "- Mengidentifikasi kesalahan data pada tabel day_df"
      ]
    },
    {
      "cell_type": "markdown",
      "metadata": {
        "id": "EhN5R4hr8DC1"
      },
      "source": [
        "### Cleaning Data"
      ]
    },
    {
      "cell_type": "markdown",
      "metadata": {
        "id": "cvTxCQgUIPWr"
      },
      "source": [
        "#### Membersihkan tabel `day_df`"
      ]
    },
    {
      "cell_type": "markdown",
      "metadata": {
        "id": "TSPX4lwUIPWr"
      },
      "source": [
        "##### Memperbaiki tipe data"
      ]
    },
    {
      "cell_type": "code",
      "execution_count": null,
      "metadata": {
        "id": "jVnYpprE9Evz"
      },
      "outputs": [],
      "source": [
        "day_df[\"dteday\"] = pd.to_datetime(day_df[\"dteday\"])\n",
        "day_df.info()"
      ]
    },
    {
      "cell_type": "markdown",
      "metadata": {
        "id": "QxYeGd94IPWr"
      },
      "source": [
        "#### Membersihkan tabel `hour_df`"
      ]
    },
    {
      "cell_type": "markdown",
      "metadata": {
        "id": "W8UFkke-IPWr"
      },
      "source": [
        "##### Memperbaiki tipe data"
      ]
    },
    {
      "cell_type": "code",
      "execution_count": null,
      "metadata": {
        "id": "moHNtQ79IPWr"
      },
      "outputs": [],
      "source": [
        "hour_df[\"dteday\"] = pd.to_datetime(hour_df[\"dteday\"])\n",
        "hour_df.info()"
      ]
    },
    {
      "cell_type": "markdown",
      "metadata": {
        "id": "cAKTklrWIPWr"
      },
      "source": [
        "**Insight:**\n",
        "- Mengubah tipe data di tabel day_df pada variabel dteday menjadi tipe data datetime\n",
        "- Mengubah tipe data di tabel hour_df pada variabel dteday menjadi tipe data datetime\n"
      ]
    },
    {
      "cell_type": "markdown",
      "metadata": {
        "id": "gp-Y6wU38DC1"
      },
      "source": [
        "## Exploratory Data Analysis (EDA)"
      ]
    },
    {
      "cell_type": "markdown",
      "metadata": {
        "id": "MW7WF2kr8DC1"
      },
      "source": [
        "### Explore `day_df`"
      ]
    },
    {
      "cell_type": "code",
      "execution_count": null,
      "metadata": {
        "id": "AR5mbWQFA5OB"
      },
      "outputs": [],
      "source": [
        "day_df.sample(5)"
      ]
    },
    {
      "cell_type": "code",
      "execution_count": null,
      "metadata": {
        "id": "etTpur1XBSqr"
      },
      "outputs": [],
      "source": [
        "day_df.describe(include=\"all\")"
      ]
    },
    {
      "cell_type": "code",
      "execution_count": 232,
      "metadata": {
        "id": "WoUhtFlGF7Sx"
      },
      "outputs": [],
      "source": [
        "day_df['Day_type'] = day_df['workingday'].map({1: 'Hari Kerja', 0: 'Hari Libur'})\n",
        "day_df['year'] = day_df['dteday'].dt.year\n",
        "day_type_year_summary = day_df.groupby(['year', 'Day_type'])['cnt'].mean().reset_index()"
      ]
    },
    {
      "cell_type": "code",
      "execution_count": null,
      "metadata": {},
      "outputs": [],
      "source": [
        "day_df.groupby(by=\"season\").agg({\n",
        "    \"cnt\":[\"sum\",\"min\",\"max\",\"mean\",\"std\"]\n",
        "})"
      ]
    },
    {
      "cell_type": "code",
      "execution_count": null,
      "metadata": {},
      "outputs": [],
      "source": [
        "day_df.groupby('season')['cnt'].sum().reset_index()\n",
        "season_labels = {\n",
        "    1: 'Spring',\n",
        "    2: 'Summer',\n",
        "    3: 'Fall',\n",
        "    4: 'Winter'\n",
        "}\n",
        "day_df['season_label'] = day_df['season'].map(season_labels)\n",
        "day_df.sample(5)"
      ]
    },
    {
      "cell_type": "code",
      "execution_count": null,
      "metadata": {},
      "outputs": [],
      "source": [
        "day_df.groupby(by=[\"year\",\"workingday\"]).agg({\n",
        "    \"cnt\":[\"sum\",\"min\",\"max\",\"mean\",\"std\"]\n",
        "})"
      ]
    },
    {
      "cell_type": "code",
      "execution_count": null,
      "metadata": {},
      "outputs": [],
      "source": [
        "day_df.groupby(by=[\"weathersit\"]).agg({\n",
        "    \"cnt\":[\"sum\",\"min\",\"max\",\"mean\"]\n",
        "})"
      ]
    },
    {
      "cell_type": "code",
      "execution_count": null,
      "metadata": {},
      "outputs": [],
      "source": [
        "day_df.groupby('weathersit')['cnt'].sum().reset_index()\n",
        "weather_labels = {\n",
        "    1: 'Baik',\n",
        "    2: 'Sedang',\n",
        "    3: 'Sedikit Buruk',\n",
        "    4: 'Buruk'\n",
        "}\n",
        "day_df['weather_label'] = day_df['weathersit'].map(weather_labels)\n",
        "day_df.sample(5)"
      ]
    },
    {
      "cell_type": "code",
      "execution_count": 238,
      "metadata": {},
      "outputs": [],
      "source": [
        "    day_df['Day_type'] = day_df['workingday'].map({1: 'Hari Kerja', 0: 'Hari Libur'})\n",
        "    day_df['year'] = day_df['dteday'].dt.year\n",
        "    day_type_year_summary = day_df.groupby(['year','Day_type'])['cnt'].mean().reset_index()"
      ]
    },
    {
      "cell_type": "markdown",
      "metadata": {
        "id": "Hg3q0EZ0IPWs"
      },
      "source": [
        "### Explore `hour_df`"
      ]
    },
    {
      "cell_type": "code",
      "execution_count": null,
      "metadata": {
        "collapsed": true,
        "id": "2iPgjGcDBt6i"
      },
      "outputs": [],
      "source": [
        "hour_df.sample(5)"
      ]
    },
    {
      "cell_type": "code",
      "execution_count": null,
      "metadata": {
        "collapsed": true,
        "id": "sx_w_Z-iB6At"
      },
      "outputs": [],
      "source": [
        "hour_df.describe(include=\"all\")"
      ]
    },
    {
      "cell_type": "code",
      "execution_count": 241,
      "metadata": {
        "id": "tjP6rYzoIPWs"
      },
      "outputs": [],
      "source": [
        "hourly_counts = hour_df.groupby('hr')['cnt'].mean()"
      ]
    },
    {
      "cell_type": "code",
      "execution_count": null,
      "metadata": {
        "id": "XwUCuWo53fn5"
      },
      "outputs": [],
      "source": [
        "hour_df.groupby(by=[\"hr\"]).agg({\n",
        "    \"cnt\":[\"sum\",\"min\", \"max\",\"mean\",\"std\"]\n",
        "})"
      ]
    },
    {
      "cell_type": "code",
      "execution_count": 268,
      "metadata": {},
      "outputs": [],
      "source": [
        "hour_df['Day_type'] = hour_df['workingday'].map({1: 'Hari Kerja', 0: 'Hari Libur'})\n",
        "hour_df['year'] = hour_df['dteday'].dt.year\n",
        "day_type_year_summary = hour_df.groupby(['year', 'Day_type'])['cnt'].mean().reset_index()"
      ]
    },
    {
      "cell_type": "code",
      "execution_count": null,
      "metadata": {},
      "outputs": [],
      "source": [
        "hour_df.groupby('season')['cnt'].sum().reset_index()\n",
        "season_labels = {\n",
        "    1: 'Spring',\n",
        "    2: 'Summer',\n",
        "    3: 'Fall',\n",
        "    4: 'Winter'\n",
        "}\n",
        "hour_df['season_label'] = hour_df['season'].map(season_labels)\n",
        "hour_df.sample(5)"
      ]
    },
    {
      "cell_type": "code",
      "execution_count": null,
      "metadata": {},
      "outputs": [],
      "source": [
        "hour_df.groupby('weathersit')['cnt'].sum().reset_index()\n",
        "weather_labels = {\n",
        "    1: 'Baik',\n",
        "    2: 'Sedang',\n",
        "    3: 'Sedikit Buruk',\n",
        "    4: 'Buruk'\n",
        "}\n",
        "hour_df['weather_label'] = hour_df['weathersit'].map(weather_labels)\n",
        "hour_df.sample(5)"
      ]
    },
    {
      "cell_type": "markdown",
      "metadata": {
        "id": "th_Lzl2Fkj9O"
      },
      "source": [
        "**Insight:**\n",
        "- Melakukan eksplorasi terhadap tabel day_df untuk menjawab pertanyaan yang di analisis\n",
        "- Melakukan eksplorasi terhadap tabel hour_df untuk menjawab pertanyaan yang di analisis\n",
        "- Melakukan eksplorasi terhadap tabel all_df untuk menjawab pertanyaan yang di analisis"
      ]
    },
    {
      "cell_type": "markdown",
      "metadata": {
        "id": "zsyZjqak8DC2"
      },
      "source": [
        "## Visualization & Explanatory Analysis"
      ]
    },
    {
      "cell_type": "markdown",
      "metadata": {
        "id": "HZxOiQ6n8DC2"
      },
      "source": [
        "### Pertanyaan 1:"
      ]
    },
    {
      "cell_type": "code",
      "execution_count": null,
      "metadata": {
        "colab": {
          "base_uri": "https://localhost:8080/",
          "height": 570
        },
        "id": "1swJUdAD8DC2",
        "outputId": "6f002178-c1b6-4d35-b639-c52f68aea56f"
      },
      "outputs": [],
      "source": [
        "plt.figure(figsize=(8, 6))\n",
        "\n",
        "sns.barplot(\n",
        "    data=day_type_year_summary,\n",
        "    x=\"Day_type\",\n",
        "    y=\"cnt\",\n",
        "    hue=\"year\",\n",
        "    palette=\"viridis\"\n",
        "   )\n",
        "\n",
        "plt.title(\"Penyewaan Sepeda Berdasarkan Tipe Hari dan Tahun\", fontsize=14)\n",
        "plt.xlabel(\"Tipe Hari\", fontsize=12)\n",
        "plt.ylabel(\"Rata-rata Penyewaan Sepeda\", fontsize=12)\n",
        "plt.xticks(fontsize=11)\n",
        "plt.yticks(fontsize=11)\n",
        "\n",
        "plt.legend(title=\"Tahun\")\n",
        "plt.show()"
      ]
    },
    {
      "cell_type": "markdown",
      "metadata": {
        "id": "_H7eRtWjzqfr"
      },
      "source": [
        "### Pertanyaan 2:"
      ]
    },
    {
      "cell_type": "code",
      "execution_count": null,
      "metadata": {
        "colab": {
          "base_uri": "https://localhost:8080/",
          "height": 570
        },
        "id": "Go0lCsvO8DC2",
        "outputId": "3ea455fb-e81a-4c43-d949-b939fa7b4d94"
      },
      "outputs": [],
      "source": [
        "plt.figure(figsize=(8, 6))\n",
        "sns.lineplot(x=hourly_counts.index, y=hourly_counts.values, marker = \"o\")\n",
        "plt.title(\"Rata-rata Penyewaan Sepeda Berdasarkan Jam\",fontsize = 14)\n",
        "plt.xlabel(\"Hour (0-23)\", fontsize= 12)\n",
        "plt.ylabel(\"Rata-rata Penyewaan\", fontsize = 12)\n",
        "plt.xticks(fontsize=11)\n",
        "plt.yticks(fontsize=11)\n",
        "plt.grid(True)\n",
        "plt.show()"
      ]
    },
    {
      "cell_type": "markdown",
      "metadata": {
        "id": "4j2CUUpOztNJ"
      },
      "source": [
        "### Pertanyaan 3:"
      ]
    },
    {
      "cell_type": "code",
      "execution_count": null,
      "metadata": {
        "colab": {
          "base_uri": "https://localhost:8080/",
          "height": 522
        },
        "id": "gNgT8H4r0MC4",
        "outputId": "0ffff55b-052a-4eea-a4fb-680b4fe925be"
      },
      "outputs": [],
      "source": [
        "explode = (0, 0, 0.1, 0)\n",
        "\n",
        "plt.figure(figsize=(8, 6))\n",
        "plt.pie(\n",
        "    season_summary['cnt'],\n",
        "    labels=season_summary['season_label'],\n",
        "    autopct='%1.1f%%',\n",
        "    colors=['#ff9999','#66b3ff','#99ff99','#ffcc99'],\n",
        "    explode =explode\n",
        "    )\n",
        "plt.title('Distribusi Penyewaan Sepeda Berdasarkan Musim', fontsize=14)\n",
        "plt.axis('equal')\n",
        "plt.show()"
      ]
    },
    {
      "cell_type": "markdown",
      "metadata": {
        "id": "_0-36BDLklRg"
      },
      "source": [
        "**Insight:**\n",
        "- Membuat visualisasi berbentuk beberapa diagram dari pertanyaan yang di analisis\n",
        "- Mmeberikan keterangan pada diagram tersebut agar dapat dimengerti oleh client terhadap analisis"
      ]
    },
    {
      "cell_type": "markdown",
      "metadata": {
        "id": "TozXCiGujkPi"
      },
      "source": [
        "## Analisis Lanjutan"
      ]
    },
    {
      "cell_type": "markdown",
      "metadata": {
        "id": "niTyVnAIqGqM"
      },
      "source": [
        "### Analisis RFM"
      ]
    },
    {
      "cell_type": "code",
      "execution_count": 304,
      "metadata": {
        "id": "8sdqg0EVjpcs"
      },
      "outputs": [],
      "source": [
        "all_df = pd.concat([hour_df, day_df], ignore_index=True)\n",
        "all_df.to_csv(\"dashboard/all.csv\", index=False)"
      ]
    },
    {
      "cell_type": "code",
      "execution_count": 305,
      "metadata": {},
      "outputs": [
        {
          "name": "stdout",
          "output_type": "stream",
          "text": [
            "<class 'pandas.core.frame.DataFrame'>\n",
            "RangeIndex: 18110 entries, 0 to 18109\n",
            "Data columns (total 21 columns):\n",
            " #   Column         Non-Null Count  Dtype         \n",
            "---  ------         --------------  -----         \n",
            " 0   instant        18110 non-null  int64         \n",
            " 1   dteday         18110 non-null  datetime64[ns]\n",
            " 2   season         18110 non-null  int64         \n",
            " 3   yr             18110 non-null  int64         \n",
            " 4   mnth           18110 non-null  int64         \n",
            " 5   hr             17379 non-null  float64       \n",
            " 6   holiday        18110 non-null  int64         \n",
            " 7   weekday        18110 non-null  int64         \n",
            " 8   workingday     18110 non-null  int64         \n",
            " 9   weathersit     18110 non-null  int64         \n",
            " 10  temp           18110 non-null  float64       \n",
            " 11  atemp          18110 non-null  float64       \n",
            " 12  hum            18110 non-null  float64       \n",
            " 13  windspeed      18110 non-null  float64       \n",
            " 14  casual         18110 non-null  int64         \n",
            " 15  registered     18110 non-null  int64         \n",
            " 16  cnt            18110 non-null  int64         \n",
            " 17  Day_type       18110 non-null  object        \n",
            " 18  year           18110 non-null  int32         \n",
            " 19  season_label   18110 non-null  object        \n",
            " 20  weather_label  18110 non-null  object        \n",
            "dtypes: datetime64[ns](1), float64(5), int32(1), int64(11), object(3)\n",
            "memory usage: 2.8+ MB\n"
          ]
        }
      ],
      "source": [
        "all_df.info()"
      ]
    },
    {
      "cell_type": "code",
      "execution_count": 306,
      "metadata": {},
      "outputs": [
        {
          "data": {
            "text/html": [
              "<div>\n",
              "<style scoped>\n",
              "    .dataframe tbody tr th:only-of-type {\n",
              "        vertical-align: middle;\n",
              "    }\n",
              "\n",
              "    .dataframe tbody tr th {\n",
              "        vertical-align: top;\n",
              "    }\n",
              "\n",
              "    .dataframe thead th {\n",
              "        text-align: right;\n",
              "    }\n",
              "</style>\n",
              "<table border=\"1\" class=\"dataframe\">\n",
              "  <thead>\n",
              "    <tr style=\"text-align: right;\">\n",
              "      <th></th>\n",
              "      <th>instant</th>\n",
              "      <th>dteday</th>\n",
              "      <th>season</th>\n",
              "      <th>yr</th>\n",
              "      <th>mnth</th>\n",
              "      <th>hr</th>\n",
              "      <th>holiday</th>\n",
              "      <th>weekday</th>\n",
              "      <th>workingday</th>\n",
              "      <th>weathersit</th>\n",
              "      <th>...</th>\n",
              "      <th>atemp</th>\n",
              "      <th>hum</th>\n",
              "      <th>windspeed</th>\n",
              "      <th>casual</th>\n",
              "      <th>registered</th>\n",
              "      <th>cnt</th>\n",
              "      <th>Day_type</th>\n",
              "      <th>year</th>\n",
              "      <th>season_label</th>\n",
              "      <th>weather_label</th>\n",
              "    </tr>\n",
              "  </thead>\n",
              "  <tbody>\n",
              "    <tr>\n",
              "      <th>count</th>\n",
              "      <td>18110.000000</td>\n",
              "      <td>18110</td>\n",
              "      <td>18110.000000</td>\n",
              "      <td>18110.000000</td>\n",
              "      <td>18110.000000</td>\n",
              "      <td>17379.000000</td>\n",
              "      <td>18110.000000</td>\n",
              "      <td>18110.000000</td>\n",
              "      <td>18110.000000</td>\n",
              "      <td>18110.000000</td>\n",
              "      <td>...</td>\n",
              "      <td>18110.000000</td>\n",
              "      <td>18110.000000</td>\n",
              "      <td>18110.000000</td>\n",
              "      <td>18110.000000</td>\n",
              "      <td>18110.000000</td>\n",
              "      <td>18110.000000</td>\n",
              "      <td>18110</td>\n",
              "      <td>18110.000000</td>\n",
              "      <td>18110</td>\n",
              "      <td>18110</td>\n",
              "    </tr>\n",
              "    <tr>\n",
              "      <th>unique</th>\n",
              "      <td>NaN</td>\n",
              "      <td>NaN</td>\n",
              "      <td>NaN</td>\n",
              "      <td>NaN</td>\n",
              "      <td>NaN</td>\n",
              "      <td>NaN</td>\n",
              "      <td>NaN</td>\n",
              "      <td>NaN</td>\n",
              "      <td>NaN</td>\n",
              "      <td>NaN</td>\n",
              "      <td>...</td>\n",
              "      <td>NaN</td>\n",
              "      <td>NaN</td>\n",
              "      <td>NaN</td>\n",
              "      <td>NaN</td>\n",
              "      <td>NaN</td>\n",
              "      <td>NaN</td>\n",
              "      <td>2</td>\n",
              "      <td>NaN</td>\n",
              "      <td>4</td>\n",
              "      <td>4</td>\n",
              "    </tr>\n",
              "    <tr>\n",
              "      <th>top</th>\n",
              "      <td>NaN</td>\n",
              "      <td>NaN</td>\n",
              "      <td>NaN</td>\n",
              "      <td>NaN</td>\n",
              "      <td>NaN</td>\n",
              "      <td>NaN</td>\n",
              "      <td>NaN</td>\n",
              "      <td>NaN</td>\n",
              "      <td>NaN</td>\n",
              "      <td>NaN</td>\n",
              "      <td>...</td>\n",
              "      <td>NaN</td>\n",
              "      <td>NaN</td>\n",
              "      <td>NaN</td>\n",
              "      <td>NaN</td>\n",
              "      <td>NaN</td>\n",
              "      <td>NaN</td>\n",
              "      <td>Hari Kerja</td>\n",
              "      <td>NaN</td>\n",
              "      <td>Fall</td>\n",
              "      <td>Baik</td>\n",
              "    </tr>\n",
              "    <tr>\n",
              "      <th>freq</th>\n",
              "      <td>NaN</td>\n",
              "      <td>NaN</td>\n",
              "      <td>NaN</td>\n",
              "      <td>NaN</td>\n",
              "      <td>NaN</td>\n",
              "      <td>NaN</td>\n",
              "      <td>NaN</td>\n",
              "      <td>NaN</td>\n",
              "      <td>NaN</td>\n",
              "      <td>NaN</td>\n",
              "      <td>...</td>\n",
              "      <td>NaN</td>\n",
              "      <td>NaN</td>\n",
              "      <td>NaN</td>\n",
              "      <td>NaN</td>\n",
              "      <td>NaN</td>\n",
              "      <td>NaN</td>\n",
              "      <td>12365</td>\n",
              "      <td>NaN</td>\n",
              "      <td>4684</td>\n",
              "      <td>11876</td>\n",
              "    </tr>\n",
              "    <tr>\n",
              "      <th>mean</th>\n",
              "      <td>8354.006405</td>\n",
              "      <td>2012-01-02 03:00:25.046935296</td>\n",
              "      <td>2.501436</td>\n",
              "      <td>0.502485</td>\n",
              "      <td>6.537051</td>\n",
              "      <td>11.546752</td>\n",
              "      <td>0.028769</td>\n",
              "      <td>3.003424</td>\n",
              "      <td>0.682772</td>\n",
              "      <td>1.424075</td>\n",
              "      <td>...</td>\n",
              "      <td>0.475718</td>\n",
              "      <td>0.627256</td>\n",
              "      <td>0.190113</td>\n",
              "      <td>68.472336</td>\n",
              "      <td>295.158697</td>\n",
              "      <td>363.631033</td>\n",
              "      <td>NaN</td>\n",
              "      <td>2011.502485</td>\n",
              "      <td>NaN</td>\n",
              "      <td>NaN</td>\n",
              "    </tr>\n",
              "    <tr>\n",
              "      <th>min</th>\n",
              "      <td>1.000000</td>\n",
              "      <td>2011-01-01 00:00:00</td>\n",
              "      <td>1.000000</td>\n",
              "      <td>0.000000</td>\n",
              "      <td>1.000000</td>\n",
              "      <td>0.000000</td>\n",
              "      <td>0.000000</td>\n",
              "      <td>0.000000</td>\n",
              "      <td>0.000000</td>\n",
              "      <td>1.000000</td>\n",
              "      <td>...</td>\n",
              "      <td>0.000000</td>\n",
              "      <td>0.000000</td>\n",
              "      <td>0.000000</td>\n",
              "      <td>0.000000</td>\n",
              "      <td>0.000000</td>\n",
              "      <td>1.000000</td>\n",
              "      <td>NaN</td>\n",
              "      <td>2011.000000</td>\n",
              "      <td>NaN</td>\n",
              "      <td>NaN</td>\n",
              "    </tr>\n",
              "    <tr>\n",
              "      <th>25%</th>\n",
              "      <td>3797.250000</td>\n",
              "      <td>2011-07-04 00:00:00</td>\n",
              "      <td>2.000000</td>\n",
              "      <td>0.000000</td>\n",
              "      <td>4.000000</td>\n",
              "      <td>6.000000</td>\n",
              "      <td>0.000000</td>\n",
              "      <td>1.000000</td>\n",
              "      <td>0.000000</td>\n",
              "      <td>1.000000</td>\n",
              "      <td>...</td>\n",
              "      <td>0.333300</td>\n",
              "      <td>0.480000</td>\n",
              "      <td>0.104500</td>\n",
              "      <td>4.000000</td>\n",
              "      <td>37.000000</td>\n",
              "      <td>43.000000</td>\n",
              "      <td>NaN</td>\n",
              "      <td>2011.000000</td>\n",
              "      <td>NaN</td>\n",
              "      <td>NaN</td>\n",
              "    </tr>\n",
              "    <tr>\n",
              "      <th>50%</th>\n",
              "      <td>8324.500000</td>\n",
              "      <td>2012-01-02 00:00:00</td>\n",
              "      <td>3.000000</td>\n",
              "      <td>1.000000</td>\n",
              "      <td>7.000000</td>\n",
              "      <td>12.000000</td>\n",
              "      <td>0.000000</td>\n",
              "      <td>3.000000</td>\n",
              "      <td>1.000000</td>\n",
              "      <td>1.000000</td>\n",
              "      <td>...</td>\n",
              "      <td>0.484800</td>\n",
              "      <td>0.630000</td>\n",
              "      <td>0.188951</td>\n",
              "      <td>18.000000</td>\n",
              "      <td>123.000000</td>\n",
              "      <td>152.000000</td>\n",
              "      <td>NaN</td>\n",
              "      <td>2012.000000</td>\n",
              "      <td>NaN</td>\n",
              "      <td>NaN</td>\n",
              "    </tr>\n",
              "    <tr>\n",
              "      <th>75%</th>\n",
              "      <td>12851.750000</td>\n",
              "      <td>2012-07-02 00:00:00</td>\n",
              "      <td>3.000000</td>\n",
              "      <td>1.000000</td>\n",
              "      <td>10.000000</td>\n",
              "      <td>18.000000</td>\n",
              "      <td>0.000000</td>\n",
              "      <td>5.000000</td>\n",
              "      <td>1.000000</td>\n",
              "      <td>2.000000</td>\n",
              "      <td>...</td>\n",
              "      <td>0.621200</td>\n",
              "      <td>0.780000</td>\n",
              "      <td>0.253700</td>\n",
              "      <td>55.000000</td>\n",
              "      <td>238.000000</td>\n",
              "      <td>305.000000</td>\n",
              "      <td>NaN</td>\n",
              "      <td>2012.000000</td>\n",
              "      <td>NaN</td>\n",
              "      <td>NaN</td>\n",
              "    </tr>\n",
              "    <tr>\n",
              "      <th>max</th>\n",
              "      <td>17379.000000</td>\n",
              "      <td>2012-12-31 00:00:00</td>\n",
              "      <td>4.000000</td>\n",
              "      <td>1.000000</td>\n",
              "      <td>12.000000</td>\n",
              "      <td>23.000000</td>\n",
              "      <td>1.000000</td>\n",
              "      <td>6.000000</td>\n",
              "      <td>1.000000</td>\n",
              "      <td>4.000000</td>\n",
              "      <td>...</td>\n",
              "      <td>1.000000</td>\n",
              "      <td>1.000000</td>\n",
              "      <td>0.850700</td>\n",
              "      <td>3410.000000</td>\n",
              "      <td>6946.000000</td>\n",
              "      <td>8714.000000</td>\n",
              "      <td>NaN</td>\n",
              "      <td>2012.000000</td>\n",
              "      <td>NaN</td>\n",
              "      <td>NaN</td>\n",
              "    </tr>\n",
              "    <tr>\n",
              "      <th>std</th>\n",
              "      <td>5180.771860</td>\n",
              "      <td>NaN</td>\n",
              "      <td>1.107045</td>\n",
              "      <td>0.500008</td>\n",
              "      <td>3.439213</td>\n",
              "      <td>6.914405</td>\n",
              "      <td>0.167160</td>\n",
              "      <td>2.005677</td>\n",
              "      <td>0.465410</td>\n",
              "      <td>0.635830</td>\n",
              "      <td>...</td>\n",
              "      <td>0.171496</td>\n",
              "      <td>0.191147</td>\n",
              "      <td>0.120851</td>\n",
              "      <td>216.588054</td>\n",
              "      <td>771.555142</td>\n",
              "      <td>950.827954</td>\n",
              "      <td>NaN</td>\n",
              "      <td>0.500008</td>\n",
              "      <td>NaN</td>\n",
              "      <td>NaN</td>\n",
              "    </tr>\n",
              "  </tbody>\n",
              "</table>\n",
              "<p>11 rows × 21 columns</p>\n",
              "</div>"
            ],
            "text/plain": [
              "             instant                         dteday        season  \\\n",
              "count   18110.000000                          18110  18110.000000   \n",
              "unique           NaN                            NaN           NaN   \n",
              "top              NaN                            NaN           NaN   \n",
              "freq             NaN                            NaN           NaN   \n",
              "mean     8354.006405  2012-01-02 03:00:25.046935296      2.501436   \n",
              "min         1.000000            2011-01-01 00:00:00      1.000000   \n",
              "25%      3797.250000            2011-07-04 00:00:00      2.000000   \n",
              "50%      8324.500000            2012-01-02 00:00:00      3.000000   \n",
              "75%     12851.750000            2012-07-02 00:00:00      3.000000   \n",
              "max     17379.000000            2012-12-31 00:00:00      4.000000   \n",
              "std      5180.771860                            NaN      1.107045   \n",
              "\n",
              "                  yr          mnth            hr       holiday       weekday  \\\n",
              "count   18110.000000  18110.000000  17379.000000  18110.000000  18110.000000   \n",
              "unique           NaN           NaN           NaN           NaN           NaN   \n",
              "top              NaN           NaN           NaN           NaN           NaN   \n",
              "freq             NaN           NaN           NaN           NaN           NaN   \n",
              "mean        0.502485      6.537051     11.546752      0.028769      3.003424   \n",
              "min         0.000000      1.000000      0.000000      0.000000      0.000000   \n",
              "25%         0.000000      4.000000      6.000000      0.000000      1.000000   \n",
              "50%         1.000000      7.000000     12.000000      0.000000      3.000000   \n",
              "75%         1.000000     10.000000     18.000000      0.000000      5.000000   \n",
              "max         1.000000     12.000000     23.000000      1.000000      6.000000   \n",
              "std         0.500008      3.439213      6.914405      0.167160      2.005677   \n",
              "\n",
              "          workingday    weathersit  ...         atemp           hum  \\\n",
              "count   18110.000000  18110.000000  ...  18110.000000  18110.000000   \n",
              "unique           NaN           NaN  ...           NaN           NaN   \n",
              "top              NaN           NaN  ...           NaN           NaN   \n",
              "freq             NaN           NaN  ...           NaN           NaN   \n",
              "mean        0.682772      1.424075  ...      0.475718      0.627256   \n",
              "min         0.000000      1.000000  ...      0.000000      0.000000   \n",
              "25%         0.000000      1.000000  ...      0.333300      0.480000   \n",
              "50%         1.000000      1.000000  ...      0.484800      0.630000   \n",
              "75%         1.000000      2.000000  ...      0.621200      0.780000   \n",
              "max         1.000000      4.000000  ...      1.000000      1.000000   \n",
              "std         0.465410      0.635830  ...      0.171496      0.191147   \n",
              "\n",
              "           windspeed        casual    registered           cnt    Day_type  \\\n",
              "count   18110.000000  18110.000000  18110.000000  18110.000000       18110   \n",
              "unique           NaN           NaN           NaN           NaN           2   \n",
              "top              NaN           NaN           NaN           NaN  Hari Kerja   \n",
              "freq             NaN           NaN           NaN           NaN       12365   \n",
              "mean        0.190113     68.472336    295.158697    363.631033         NaN   \n",
              "min         0.000000      0.000000      0.000000      1.000000         NaN   \n",
              "25%         0.104500      4.000000     37.000000     43.000000         NaN   \n",
              "50%         0.188951     18.000000    123.000000    152.000000         NaN   \n",
              "75%         0.253700     55.000000    238.000000    305.000000         NaN   \n",
              "max         0.850700   3410.000000   6946.000000   8714.000000         NaN   \n",
              "std         0.120851    216.588054    771.555142    950.827954         NaN   \n",
              "\n",
              "                year  season_label weather_label  \n",
              "count   18110.000000         18110         18110  \n",
              "unique           NaN             4             4  \n",
              "top              NaN          Fall          Baik  \n",
              "freq             NaN          4684         11876  \n",
              "mean     2011.502485           NaN           NaN  \n",
              "min      2011.000000           NaN           NaN  \n",
              "25%      2011.000000           NaN           NaN  \n",
              "50%      2012.000000           NaN           NaN  \n",
              "75%      2012.000000           NaN           NaN  \n",
              "max      2012.000000           NaN           NaN  \n",
              "std         0.500008           NaN           NaN  \n",
              "\n",
              "[11 rows x 21 columns]"
            ]
          },
          "execution_count": 306,
          "metadata": {},
          "output_type": "execute_result"
        }
      ],
      "source": [
        "all_df.describe(include=\"all\")"
      ]
    },
    {
      "cell_type": "code",
      "execution_count": 307,
      "metadata": {},
      "outputs": [
        {
          "data": {
            "text/html": [
              "<div>\n",
              "<style scoped>\n",
              "    .dataframe tbody tr th:only-of-type {\n",
              "        vertical-align: middle;\n",
              "    }\n",
              "\n",
              "    .dataframe tbody tr th {\n",
              "        vertical-align: top;\n",
              "    }\n",
              "\n",
              "    .dataframe thead th {\n",
              "        text-align: right;\n",
              "    }\n",
              "</style>\n",
              "<table border=\"1\" class=\"dataframe\">\n",
              "  <thead>\n",
              "    <tr style=\"text-align: right;\">\n",
              "      <th></th>\n",
              "      <th>instant</th>\n",
              "      <th>dteday</th>\n",
              "      <th>season</th>\n",
              "      <th>yr</th>\n",
              "      <th>mnth</th>\n",
              "      <th>hr</th>\n",
              "      <th>holiday</th>\n",
              "      <th>weekday</th>\n",
              "      <th>workingday</th>\n",
              "      <th>weathersit</th>\n",
              "      <th>...</th>\n",
              "      <th>atemp</th>\n",
              "      <th>hum</th>\n",
              "      <th>windspeed</th>\n",
              "      <th>casual</th>\n",
              "      <th>registered</th>\n",
              "      <th>cnt</th>\n",
              "      <th>Day_type</th>\n",
              "      <th>year</th>\n",
              "      <th>season_label</th>\n",
              "      <th>weather_label</th>\n",
              "    </tr>\n",
              "  </thead>\n",
              "  <tbody>\n",
              "    <tr>\n",
              "      <th>4537</th>\n",
              "      <td>4538</td>\n",
              "      <td>2011-07-12</td>\n",
              "      <td>3</td>\n",
              "      <td>0</td>\n",
              "      <td>7</td>\n",
              "      <td>23.0</td>\n",
              "      <td>0</td>\n",
              "      <td>2</td>\n",
              "      <td>1</td>\n",
              "      <td>1</td>\n",
              "      <td>...</td>\n",
              "      <td>0.712100</td>\n",
              "      <td>0.520000</td>\n",
              "      <td>0.000000</td>\n",
              "      <td>20</td>\n",
              "      <td>59</td>\n",
              "      <td>79</td>\n",
              "      <td>Hari Kerja</td>\n",
              "      <td>2011</td>\n",
              "      <td>Fall</td>\n",
              "      <td>Baik</td>\n",
              "    </tr>\n",
              "    <tr>\n",
              "      <th>18101</th>\n",
              "      <td>723</td>\n",
              "      <td>2012-12-23</td>\n",
              "      <td>1</td>\n",
              "      <td>1</td>\n",
              "      <td>12</td>\n",
              "      <td>NaN</td>\n",
              "      <td>0</td>\n",
              "      <td>0</td>\n",
              "      <td>0</td>\n",
              "      <td>1</td>\n",
              "      <td>...</td>\n",
              "      <td>0.259471</td>\n",
              "      <td>0.515417</td>\n",
              "      <td>0.133083</td>\n",
              "      <td>408</td>\n",
              "      <td>1379</td>\n",
              "      <td>1787</td>\n",
              "      <td>Hari Libur</td>\n",
              "      <td>2012</td>\n",
              "      <td>Spring</td>\n",
              "      <td>Baik</td>\n",
              "    </tr>\n",
              "    <tr>\n",
              "      <th>10781</th>\n",
              "      <td>10782</td>\n",
              "      <td>2012-03-30</td>\n",
              "      <td>2</td>\n",
              "      <td>1</td>\n",
              "      <td>3</td>\n",
              "      <td>8.0</td>\n",
              "      <td>0</td>\n",
              "      <td>5</td>\n",
              "      <td>1</td>\n",
              "      <td>1</td>\n",
              "      <td>...</td>\n",
              "      <td>0.318200</td>\n",
              "      <td>0.660000</td>\n",
              "      <td>0.164200</td>\n",
              "      <td>38</td>\n",
              "      <td>555</td>\n",
              "      <td>593</td>\n",
              "      <td>Hari Kerja</td>\n",
              "      <td>2012</td>\n",
              "      <td>Summer</td>\n",
              "      <td>Baik</td>\n",
              "    </tr>\n",
              "    <tr>\n",
              "      <th>11125</th>\n",
              "      <td>11126</td>\n",
              "      <td>2012-04-13</td>\n",
              "      <td>2</td>\n",
              "      <td>1</td>\n",
              "      <td>4</td>\n",
              "      <td>18.0</td>\n",
              "      <td>0</td>\n",
              "      <td>5</td>\n",
              "      <td>1</td>\n",
              "      <td>1</td>\n",
              "      <td>...</td>\n",
              "      <td>0.515200</td>\n",
              "      <td>0.260000</td>\n",
              "      <td>0.134300</td>\n",
              "      <td>107</td>\n",
              "      <td>564</td>\n",
              "      <td>671</td>\n",
              "      <td>Hari Kerja</td>\n",
              "      <td>2012</td>\n",
              "      <td>Summer</td>\n",
              "      <td>Baik</td>\n",
              "    </tr>\n",
              "    <tr>\n",
              "      <th>4147</th>\n",
              "      <td>4148</td>\n",
              "      <td>2011-06-26</td>\n",
              "      <td>3</td>\n",
              "      <td>0</td>\n",
              "      <td>6</td>\n",
              "      <td>17.0</td>\n",
              "      <td>0</td>\n",
              "      <td>0</td>\n",
              "      <td>0</td>\n",
              "      <td>2</td>\n",
              "      <td>...</td>\n",
              "      <td>0.651500</td>\n",
              "      <td>0.420000</td>\n",
              "      <td>0.164200</td>\n",
              "      <td>178</td>\n",
              "      <td>243</td>\n",
              "      <td>421</td>\n",
              "      <td>Hari Libur</td>\n",
              "      <td>2011</td>\n",
              "      <td>Fall</td>\n",
              "      <td>Sedang</td>\n",
              "    </tr>\n",
              "  </tbody>\n",
              "</table>\n",
              "<p>5 rows × 21 columns</p>\n",
              "</div>"
            ],
            "text/plain": [
              "       instant     dteday  season  yr  mnth    hr  holiday  weekday  \\\n",
              "4537      4538 2011-07-12       3   0     7  23.0        0        2   \n",
              "18101      723 2012-12-23       1   1    12   NaN        0        0   \n",
              "10781    10782 2012-03-30       2   1     3   8.0        0        5   \n",
              "11125    11126 2012-04-13       2   1     4  18.0        0        5   \n",
              "4147      4148 2011-06-26       3   0     6  17.0        0        0   \n",
              "\n",
              "       workingday  weathersit  ...     atemp       hum  windspeed  casual  \\\n",
              "4537            1           1  ...  0.712100  0.520000   0.000000      20   \n",
              "18101           0           1  ...  0.259471  0.515417   0.133083     408   \n",
              "10781           1           1  ...  0.318200  0.660000   0.164200      38   \n",
              "11125           1           1  ...  0.515200  0.260000   0.134300     107   \n",
              "4147            0           2  ...  0.651500  0.420000   0.164200     178   \n",
              "\n",
              "       registered   cnt    Day_type  year  season_label weather_label  \n",
              "4537           59    79  Hari Kerja  2011          Fall          Baik  \n",
              "18101        1379  1787  Hari Libur  2012        Spring          Baik  \n",
              "10781         555   593  Hari Kerja  2012        Summer          Baik  \n",
              "11125         564   671  Hari Kerja  2012        Summer          Baik  \n",
              "4147          243   421  Hari Libur  2011          Fall        Sedang  \n",
              "\n",
              "[5 rows x 21 columns]"
            ]
          },
          "execution_count": 307,
          "metadata": {},
          "output_type": "execute_result"
        }
      ],
      "source": [
        "all_df.sample(5)"
      ]
    },
    {
      "cell_type": "code",
      "execution_count": 308,
      "metadata": {
        "id": "e2KKCw3tj-7f"
      },
      "outputs": [],
      "source": [
        "all_df['dteday'] = pd.to_datetime(all_df['dteday'])"
      ]
    },
    {
      "cell_type": "code",
      "execution_count": 311,
      "metadata": {
        "id": "oRE7noeIkDYG"
      },
      "outputs": [
        {
          "data": {
            "text/html": [
              "<div>\n",
              "<style scoped>\n",
              "    .dataframe tbody tr th:only-of-type {\n",
              "        vertical-align: middle;\n",
              "    }\n",
              "\n",
              "    .dataframe tbody tr th {\n",
              "        vertical-align: top;\n",
              "    }\n",
              "\n",
              "    .dataframe thead th {\n",
              "        text-align: right;\n",
              "    }\n",
              "</style>\n",
              "<table border=\"1\" class=\"dataframe\">\n",
              "  <thead>\n",
              "    <tr style=\"text-align: right;\">\n",
              "      <th></th>\n",
              "      <th>registered</th>\n",
              "      <th>recency</th>\n",
              "      <th>frequency</th>\n",
              "      <th>monetary</th>\n",
              "    </tr>\n",
              "  </thead>\n",
              "  <tbody>\n",
              "    <tr>\n",
              "      <th>0</th>\n",
              "      <td>0</td>\n",
              "      <td>2012-11-23</td>\n",
              "      <td>24</td>\n",
              "      <td>35</td>\n",
              "    </tr>\n",
              "    <tr>\n",
              "      <th>1</th>\n",
              "      <td>1</td>\n",
              "      <td>2012-12-31</td>\n",
              "      <td>201</td>\n",
              "      <td>294</td>\n",
              "    </tr>\n",
              "    <tr>\n",
              "      <th>2</th>\n",
              "      <td>2</td>\n",
              "      <td>2012-12-30</td>\n",
              "      <td>245</td>\n",
              "      <td>648</td>\n",
              "    </tr>\n",
              "    <tr>\n",
              "      <th>3</th>\n",
              "      <td>3</td>\n",
              "      <td>2012-12-31</td>\n",
              "      <td>294</td>\n",
              "      <td>1154</td>\n",
              "    </tr>\n",
              "    <tr>\n",
              "      <th>4</th>\n",
              "      <td>4</td>\n",
              "      <td>2012-12-28</td>\n",
              "      <td>307</td>\n",
              "      <td>1602</td>\n",
              "    </tr>\n",
              "    <tr>\n",
              "      <th>...</th>\n",
              "      <td>...</td>\n",
              "      <td>...</td>\n",
              "      <td>...</td>\n",
              "      <td>...</td>\n",
              "    </tr>\n",
              "    <tr>\n",
              "      <th>1435</th>\n",
              "      <td>6844</td>\n",
              "      <td>2012-10-03</td>\n",
              "      <td>1</td>\n",
              "      <td>7572</td>\n",
              "    </tr>\n",
              "    <tr>\n",
              "      <th>1436</th>\n",
              "      <td>6898</td>\n",
              "      <td>2012-10-24</td>\n",
              "      <td>1</td>\n",
              "      <td>7693</td>\n",
              "    </tr>\n",
              "    <tr>\n",
              "      <th>1437</th>\n",
              "      <td>6911</td>\n",
              "      <td>2012-10-10</td>\n",
              "      <td>1</td>\n",
              "      <td>7691</td>\n",
              "    </tr>\n",
              "    <tr>\n",
              "      <th>1438</th>\n",
              "      <td>6917</td>\n",
              "      <td>2012-09-21</td>\n",
              "      <td>1</td>\n",
              "      <td>8167</td>\n",
              "    </tr>\n",
              "    <tr>\n",
              "      <th>1439</th>\n",
              "      <td>6946</td>\n",
              "      <td>2012-09-26</td>\n",
              "      <td>1</td>\n",
              "      <td>7733</td>\n",
              "    </tr>\n",
              "  </tbody>\n",
              "</table>\n",
              "<p>1440 rows × 4 columns</p>\n",
              "</div>"
            ],
            "text/plain": [
              "      registered    recency  frequency  monetary\n",
              "0              0 2012-11-23         24        35\n",
              "1              1 2012-12-31        201       294\n",
              "2              2 2012-12-30        245       648\n",
              "3              3 2012-12-31        294      1154\n",
              "4              4 2012-12-28        307      1602\n",
              "...          ...        ...        ...       ...\n",
              "1435        6844 2012-10-03          1      7572\n",
              "1436        6898 2012-10-24          1      7693\n",
              "1437        6911 2012-10-10          1      7691\n",
              "1438        6917 2012-09-21          1      8167\n",
              "1439        6946 2012-09-26          1      7733\n",
              "\n",
              "[1440 rows x 4 columns]"
            ]
          },
          "execution_count": 311,
          "metadata": {},
          "output_type": "execute_result"
        }
      ],
      "source": [
        "all_df.groupby('registered').agg(\n",
        "    recency=('dteday', 'max'),\n",
        "    frequency=('dteday', 'count'),\n",
        "    monetary=('cnt', 'sum')\n",
        ").reset_index()"
      ]
    },
    {
      "cell_type": "code",
      "execution_count": 314,
      "metadata": {
        "id": "USfFqajykQ-q"
      },
      "outputs": [
        {
          "ename": "KeyError",
          "evalue": "'recency'",
          "output_type": "error",
          "traceback": [
            "\u001b[0;31m---------------------------------------------------------------------------\u001b[0m",
            "\u001b[0;31mKeyError\u001b[0m                                  Traceback (most recent call last)",
            "File \u001b[0;32m/Library/Frameworks/Python.framework/Versions/3.13/lib/python3.13/site-packages/pandas/core/indexes/base.py:3805\u001b[0m, in \u001b[0;36mIndex.get_loc\u001b[0;34m(self, key)\u001b[0m\n\u001b[1;32m   3804\u001b[0m \u001b[38;5;28;01mtry\u001b[39;00m:\n\u001b[0;32m-> 3805\u001b[0m     \u001b[38;5;28;01mreturn\u001b[39;00m \u001b[38;5;28;43mself\u001b[39;49m\u001b[38;5;241;43m.\u001b[39;49m\u001b[43m_engine\u001b[49m\u001b[38;5;241;43m.\u001b[39;49m\u001b[43mget_loc\u001b[49m\u001b[43m(\u001b[49m\u001b[43mcasted_key\u001b[49m\u001b[43m)\u001b[49m\n\u001b[1;32m   3806\u001b[0m \u001b[38;5;28;01mexcept\u001b[39;00m \u001b[38;5;167;01mKeyError\u001b[39;00m \u001b[38;5;28;01mas\u001b[39;00m err:\n",
            "File \u001b[0;32mindex.pyx:167\u001b[0m, in \u001b[0;36mpandas._libs.index.IndexEngine.get_loc\u001b[0;34m()\u001b[0m\n",
            "File \u001b[0;32mindex.pyx:196\u001b[0m, in \u001b[0;36mpandas._libs.index.IndexEngine.get_loc\u001b[0;34m()\u001b[0m\n",
            "File \u001b[0;32mpandas/_libs/hashtable_class_helper.pxi:7081\u001b[0m, in \u001b[0;36mpandas._libs.hashtable.PyObjectHashTable.get_item\u001b[0;34m()\u001b[0m\n",
            "File \u001b[0;32mpandas/_libs/hashtable_class_helper.pxi:7089\u001b[0m, in \u001b[0;36mpandas._libs.hashtable.PyObjectHashTable.get_item\u001b[0;34m()\u001b[0m\n",
            "\u001b[0;31mKeyError\u001b[0m: 'recency'",
            "\nThe above exception was the direct cause of the following exception:\n",
            "\u001b[0;31mKeyError\u001b[0m                                  Traceback (most recent call last)",
            "Cell \u001b[0;32mIn[314], line 1\u001b[0m\n\u001b[0;32m----> 1\u001b[0m all_df[\u001b[38;5;124m'\u001b[39m\u001b[38;5;124mrecency\u001b[39m\u001b[38;5;124m'\u001b[39m] \u001b[38;5;241m=\u001b[39m (\u001b[43mall_df\u001b[49m\u001b[43m[\u001b[49m\u001b[38;5;124;43m'\u001b[39;49m\u001b[38;5;124;43mrecency\u001b[39;49m\u001b[38;5;124;43m'\u001b[39;49m\u001b[43m]\u001b[49m\u001b[38;5;241m.\u001b[39mmax() \u001b[38;5;241m-\u001b[39m all_df[\u001b[38;5;124m'\u001b[39m\u001b[38;5;124mrecency\u001b[39m\u001b[38;5;124m'\u001b[39m])\u001b[38;5;241m.\u001b[39mdt\u001b[38;5;241m.\u001b[39mdays\n",
            "File \u001b[0;32m/Library/Frameworks/Python.framework/Versions/3.13/lib/python3.13/site-packages/pandas/core/frame.py:4102\u001b[0m, in \u001b[0;36mDataFrame.__getitem__\u001b[0;34m(self, key)\u001b[0m\n\u001b[1;32m   4100\u001b[0m \u001b[38;5;28;01mif\u001b[39;00m \u001b[38;5;28mself\u001b[39m\u001b[38;5;241m.\u001b[39mcolumns\u001b[38;5;241m.\u001b[39mnlevels \u001b[38;5;241m>\u001b[39m \u001b[38;5;241m1\u001b[39m:\n\u001b[1;32m   4101\u001b[0m     \u001b[38;5;28;01mreturn\u001b[39;00m \u001b[38;5;28mself\u001b[39m\u001b[38;5;241m.\u001b[39m_getitem_multilevel(key)\n\u001b[0;32m-> 4102\u001b[0m indexer \u001b[38;5;241m=\u001b[39m \u001b[38;5;28;43mself\u001b[39;49m\u001b[38;5;241;43m.\u001b[39;49m\u001b[43mcolumns\u001b[49m\u001b[38;5;241;43m.\u001b[39;49m\u001b[43mget_loc\u001b[49m\u001b[43m(\u001b[49m\u001b[43mkey\u001b[49m\u001b[43m)\u001b[49m\n\u001b[1;32m   4103\u001b[0m \u001b[38;5;28;01mif\u001b[39;00m is_integer(indexer):\n\u001b[1;32m   4104\u001b[0m     indexer \u001b[38;5;241m=\u001b[39m [indexer]\n",
            "File \u001b[0;32m/Library/Frameworks/Python.framework/Versions/3.13/lib/python3.13/site-packages/pandas/core/indexes/base.py:3812\u001b[0m, in \u001b[0;36mIndex.get_loc\u001b[0;34m(self, key)\u001b[0m\n\u001b[1;32m   3807\u001b[0m     \u001b[38;5;28;01mif\u001b[39;00m \u001b[38;5;28misinstance\u001b[39m(casted_key, \u001b[38;5;28mslice\u001b[39m) \u001b[38;5;129;01mor\u001b[39;00m (\n\u001b[1;32m   3808\u001b[0m         \u001b[38;5;28misinstance\u001b[39m(casted_key, abc\u001b[38;5;241m.\u001b[39mIterable)\n\u001b[1;32m   3809\u001b[0m         \u001b[38;5;129;01mand\u001b[39;00m \u001b[38;5;28many\u001b[39m(\u001b[38;5;28misinstance\u001b[39m(x, \u001b[38;5;28mslice\u001b[39m) \u001b[38;5;28;01mfor\u001b[39;00m x \u001b[38;5;129;01min\u001b[39;00m casted_key)\n\u001b[1;32m   3810\u001b[0m     ):\n\u001b[1;32m   3811\u001b[0m         \u001b[38;5;28;01mraise\u001b[39;00m InvalidIndexError(key)\n\u001b[0;32m-> 3812\u001b[0m     \u001b[38;5;28;01mraise\u001b[39;00m \u001b[38;5;167;01mKeyError\u001b[39;00m(key) \u001b[38;5;28;01mfrom\u001b[39;00m \u001b[38;5;21;01merr\u001b[39;00m\n\u001b[1;32m   3813\u001b[0m \u001b[38;5;28;01mexcept\u001b[39;00m \u001b[38;5;167;01mTypeError\u001b[39;00m:\n\u001b[1;32m   3814\u001b[0m     \u001b[38;5;66;03m# If we have a listlike key, _check_indexing_error will raise\u001b[39;00m\n\u001b[1;32m   3815\u001b[0m     \u001b[38;5;66;03m#  InvalidIndexError. Otherwise we fall through and re-raise\u001b[39;00m\n\u001b[1;32m   3816\u001b[0m     \u001b[38;5;66;03m#  the TypeError.\u001b[39;00m\n\u001b[1;32m   3817\u001b[0m     \u001b[38;5;28mself\u001b[39m\u001b[38;5;241m.\u001b[39m_check_indexing_error(key)\n",
            "\u001b[0;31mKeyError\u001b[0m: 'recency'"
          ]
        }
      ],
      "source": [
        "all_df['recency'] = (all_df['recency'].max() - all_df['recency']).dt.days"
      ]
    },
    {
      "cell_type": "markdown",
      "metadata": {
        "id": "q_9N7uRLnUb7"
      },
      "source": [
        "### Visualisasi Hasil RFM"
      ]
    },
    {
      "cell_type": "code",
      "execution_count": null,
      "metadata": {
        "id": "YKtBS4kwnaL6"
      },
      "outputs": [],
      "source": [
        "#Recency\n",
        "sns.histplot(user_rfm[\"recency\"], kde = True)\n",
        "plt.title(\"Distribusi Recency Pengguna\")\n",
        "plt.show()"
      ]
    },
    {
      "cell_type": "code",
      "execution_count": null,
      "metadata": {
        "id": "v1cHXmjCpMS8"
      },
      "outputs": [],
      "source": [
        "#Frequency\n",
        "sns.histplot(user_rfm[\"frequency\"], kde = True)\n",
        "plt.title(\"Distribusi Frequency Pengguna\")\n",
        "plt.show()"
      ]
    },
    {
      "cell_type": "code",
      "execution_count": null,
      "metadata": {
        "id": "wU6-2Ee8qN8u"
      },
      "outputs": [],
      "source": [
        "#Monetary\n",
        "sns.histplot(user_rfm[\"monetary\"], kde = True)\n",
        "plt.title(\"Distribusi Monetary Pengguna\")\n",
        "plt.show()"
      ]
    },
    {
      "cell_type": "markdown",
      "metadata": {
        "id": "VEYqu_aaqji2"
      },
      "source": [
        "### Geospatial Analysis"
      ]
    },
    {
      "cell_type": "code",
      "execution_count": 289,
      "metadata": {
        "colab": {
          "base_uri": "https://localhost:8080/",
          "height": 626
        },
        "id": "9oTh2s9gq1D9",
        "outputId": "446a5167-fac9-4507-ab9e-703951d86861"
      },
      "outputs": [
        {
          "name": "stderr",
          "output_type": "stream",
          "text": [
            "/var/folders/k2/q1y222d93tbd9z97csl3rg0r0000gn/T/ipykernel_38212/1284528506.py:4: UserWarning: set_ticklabels() should only be used with a fixed number of ticks, i.e. after set_ticks() or using a FixedLocator.\n",
            "  ax.set_xticklabels(weather_labels.values())\n"
          ]
        },
        {
          "data": {
            "image/png": "[encoded data removed]",
            "text/plain": [
              "<Figure size 800x600 with 1 Axes>"
            ]
          },
          "metadata": {},
          "output_type": "display_data"
        }
      ],
      "source": [
        "plt.figure(figsize=(8, 6))\n",
        "ax = sns.boxplot(data=all_df, x='weathersit', y='cnt')\n",
        "\n",
        "ax.set_xticklabels(weather_labels.values())\n",
        "plt.title('Distribusi Penyewaan Sepeda berdasarkan Cuaca', fontsize = 14)\n",
        "plt.xlabel('Cuaca', fontsize = 12)\n",
        "plt.ylabel('Jumlah Penyewaan Sepeda', fontsize =12)\n",
        "plt.xticks(fontsize=11)\n",
        "plt.yticks(fontsize=11)\n",
        "plt.show()"
      ]
    },
    {
      "cell_type": "markdown",
      "metadata": {
        "id": "XrUUzvQ6xNgP"
      },
      "source": [
        "### Clustering Analysis"
      ]
    },
    {
      "cell_type": "code",
      "execution_count": 254,
      "metadata": {
        "id": "Tj-m9uq9wYtj"
      },
      "outputs": [],
      "source": [
        "hourly_data = all_df.groupby('hr').agg(\n",
        "    total_rentals=('cnt', 'sum')\n",
        ").reset_index()\n",
        "\n",
        "# Membuat linkage\n",
        "Z = linkage(hourly_data[['hr', 'total_rentals']], 'ward')"
      ]
    },
    {
      "cell_type": "markdown",
      "metadata": {
        "id": "nvfLWD7pw8Qn"
      },
      "source": [
        "### Visualisasi Clustering Analysis"
      ]
    },
    {
      "cell_type": "code",
      "execution_count": null,
      "metadata": {
        "colab": {
          "base_uri": "https://localhost:8080/",
          "height": 569
        },
        "id": "EeMnfF0QxCHT",
        "outputId": "5c0ae5d7-590f-4eb4-a607-0ffd137188a7"
      },
      "outputs": [],
      "source": [
        "plt.figure(figsize=(8, 6))\n",
        "dendrogram(Z)\n",
        "plt.title('Dendrogram Clustering Penyewaan Sepeda per Jam', fontsize = 14)\n",
        "plt.xlabel('Jam', fontsize =12)\n",
        "plt.ylabel('Jumlah Penyewaan Sepeda', fontsize =12)\n",
        "plt.xticks(rotation = 0)\n",
        "plt.yticks()\n",
        "plt.show()"
      ]
    },
    {
      "cell_type": "markdown",
      "metadata": {
        "id": "_WeHlCeX8DC2"
      },
      "source": [
        "## Conclusion"
      ]
    },
    {
      "cell_type": "markdown",
      "metadata": {
        "id": "ZTcyR48Y8DC2"
      },
      "source": [
        "#### Konlusi pertanyaan 1 :\n",
        "- Rata rata penyewaan sepeda pada tahun 2011, cenderung lebih sedikit di banding 2012, hal ini bisa disebabkan karna faktor cuaca. Peningkatan jumlah penyewaan pada hari kerja karena orang lebih cenderung menggunakan sepeda untuk berangkat kerja atau kegiatan rutin. Sementara itu, pada hari libur, jumlah penyewaan bisa jadi lebih rendah karena orang cenderung memilih aktivitas lain atau beristirahat.\n",
        "\n",
        "#### Konlusi pertanyaan 2 :\n",
        "- Penyewaan sepeda cenderung lebih tinggi pada jam 8 pagi yaitu sebanyak 359.01 dan 7 sore hari sebanyak 461.45, yang biasanya terkait jam-jam sibuk ketika orang berangkat dan pulang kerja. Sementara pada jam tengah hari, jumlah penyewaan biasanya menurun karena banyak orang sudah bekerja.\n",
        "\n",
        "### Konlusi pertanyaan 3 :\n",
        "- Tingginya penyewaan terletak pada musim gugur (fall) yaitu sebesar 32.2 % dan pada musim panas (Summer) sebesar 27.9%. hal ini dipengaruhi oleh cuaca yang nyaman dan aktivitas rutin, sedangkan penyewaan pada musim dingin (Winter) sebesar 25.6% dan pada musim semi (Spring) sebesar 14.3 % tetap signifikan karena pengguna rutin."
      ]
    }
  ],
  "metadata": {
    "colab": {
      "provenance": [],
      "toc_visible": true
    },
    "kernelspec": {
      "display_name": "Python 3",
      "language": "python",
      "name": "python3"
    },
    "language_info": {
      "codemirror_mode": {
        "name": "ipython",
        "version": 3
      },
      "file_extension": ".py",
      "mimetype": "text/x-python",
      "name": "python",
      "nbconvert_exporter": "python",
      "pygments_lexer": "ipython3",
      "version": "3.13.0"
    },
    "orig_nbformat": 4,
    "vscode": {
      "interpreter": {
        "hash": "972b3bf27e332e87b5379f2791f6ef9dfc79c71018c370b0d7423235e20fe4d7"
      }
    }
  },
  "nbformat": 4,
  "nbformat_minor": 0
}
